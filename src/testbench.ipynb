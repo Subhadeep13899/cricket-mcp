{
 "cells": [
  {
   "cell_type": "code",
   "execution_count": null,
   "id": "1c8d7c65",
   "metadata": {},
   "outputs": [],
   "source": [
    "import http.client\n",
    "\n",
    "conn = http.client.HTTPSConnection(\"cricbuzz-cricket.p.rapidapi.com\")\n",
    "\n",
    "headers = {\n",
    "    'x-rapidapi-key': \"\",\n",
    "    'x-rapidapi-host': \"cricbuzz-cricket.p.rapidapi.com\"\n",
    "}\n",
    "\n",
    "conn.request(\"GET\", \"/matches/v1/live\", headers=headers)\n",
    "\n",
    "res = conn.getresponse()\n",
    "data = res.read()\n",
    "\n",
    "print(data.decode(\"utf-8\"))"
   ]
  }
 ],
 "metadata": {
  "kernelspec": {
   "display_name": "Python 3",
   "language": "python",
   "name": "python3"
  },
  "language_info": {
   "codemirror_mode": {
    "name": "ipython",
    "version": 3
   },
   "file_extension": ".py",
   "mimetype": "text/x-python",
   "name": "python",
   "nbconvert_exporter": "python",
   "pygments_lexer": "ipython3",
   "version": "3.11.8"
  }
 },
 "nbformat": 4,
 "nbformat_minor": 5
}
